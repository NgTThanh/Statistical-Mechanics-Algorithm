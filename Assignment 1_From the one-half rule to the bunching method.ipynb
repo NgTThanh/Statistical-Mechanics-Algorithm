{
 "cells": [
  {
   "cell_type": "code",
   "execution_count": 33,
   "id": "dab1b05c",
   "metadata": {},
   "outputs": [],
   "source": [
    "import random, math, pylab"
   ]
  },
  {
   "cell_type": "code",
   "execution_count": 4,
   "id": "3e7f49d1",
   "metadata": {},
   "outputs": [
    {
     "name": "stdout",
     "output_type": "stream",
     "text": [
      "[-5.00000000e-01  1.00000000e+00  7.50000000e-01 -1.62384756e-16\n",
      "  5.00000000e-01  2.50000000e-01  7.50000000e-01 -1.45897789e-17\n",
      "  2.50000000e-01]\n",
      "-0.5000000000000004\n",
      "0.16666666666666682\n",
      "-0.33333333333333315\n",
      "0.1666666666666666\n",
      "-0.33333333333333326\n",
      "0.6666666666666667\n",
      "-0.33333333333333326\n",
      "0.1666666666666668\n",
      "-0.33333333333333326\n",
      "0.16666666666666682\n",
      "0.9999999999999997\n",
      "-0.3333333333333325\n",
      "-0.33333333333333276\n",
      "-0.33333333333333337\n",
      "-0.333333333333333\n",
      "-0.33333333333333315\n",
      "-0.33333333333333387\n",
      "-0.3333333333333335\n",
      "-0.33333333333333387\n",
      "-0.3333333333333341\n",
      "0.7499999999999998\n",
      "-0.5773502691896262\n",
      "-0.28867513459481337\n",
      "-1.7093670591943637e-16\n",
      "-0.28867513459481325\n",
      "-3.029604478929781e-16\n",
      "0.28867513459481264\n",
      "-5.323677864862594e-16\n",
      "0.28867513459481253\n",
      "0.5773502691896251\n",
      "-1.6238475553275316e-16\n",
      "0.40824829046386296\n",
      "-0.40824829046386274\n",
      "-4.0812930404386673e-16\n",
      "-0.40824829046386285\n",
      "2.4446611598207643e-16\n",
      "0.40824829046386335\n",
      "-6.118771026574319e-17\n",
      "0.40824829046386296\n",
      "-0.40824829046386313\n",
      "0.5000000000000002\n",
      "-0.5000000000000001\n",
      "-3.3207363814263457e-16\n",
      "0.5000000000000001\n",
      "1.9183020626431584e-16\n",
      "-4.77559727597781e-17\n",
      "-3.2900346275591253e-16\n",
      "0.5000000000000001\n",
      "1.3593715673690967e-16\n",
      "-0.4999999999999999\n",
      "0.2499999999999999\n",
      "0.3333333333333334\n",
      "-0.166666666666667\n",
      "0.33333333333333365\n",
      "-0.16666666666666655\n",
      "-0.6666666666666667\n",
      "-0.1666666666666668\n",
      "0.3333333333333331\n",
      "-0.16666666666666624\n",
      "0.33333333333333315\n",
      "0.7499999999999994\n",
      "0.03174081073971125\n",
      "-0.2723681478577265\n",
      "-0.5764771064551643\n",
      "0.30410895859743786\n",
      "-2.7621113973766366e-16\n",
      "-0.30410895859743825\n",
      "0.5764771064551648\n",
      "0.2723681478577268\n",
      "-0.03174081073971124\n",
      "-1.4589778879254037e-17\n",
      "-0.021024339789029775\n",
      "0.4287309055972128\n",
      "-0.4077065658081827\n",
      "-0.38668222601915325\n",
      "2.17886477495589e-16\n",
      "0.386682226019153\n",
      "0.40770656580818254\n",
      "-0.42873090559721255\n",
      "0.02102433978902967\n",
      "0.24999999999999994\n",
      "-0.07737167967563684\n",
      "0.5250300103224499\n",
      "-0.07737167967563642\n",
      "-0.44765833064681293\n",
      "0.1547433593512734\n",
      "-0.4476583306468125\n",
      "-0.07737167967563661\n",
      "0.5250300103224491\n",
      "-0.07737167967563671\n"
     ]
    }
   ],
   "source": [
    "neighbor =  [[1, 3, 0, 0], [2, 4, 0, 1], [2, 5, 1, 2],\n",
    "             [4, 6, 3, 0], [5, 7, 3, 1], [5, 8, 4, 2],\n",
    "             [7, 6, 6, 3], [8, 7, 6, 4], [8, 8, 7, 5]]\n",
    "transfer = numpy.zeros((9, 9))\n",
    "for k in range(9):\n",
    "    for neigh in range(4): transfer[neighbor[k][neigh], k] += 0.25\n",
    "eigenvalues, eigenvectors = numpy.linalg.eig(transfer)\n",
    "print (eigenvalues)\n",
    "for iter in range(9):\n",
    "    print (eigenvalues[iter])\n",
    "    for i in range(9):\n",
    "       print (eigenvectors[i][iter])\n"
   ]
  },
  {
   "cell_type": "code",
   "execution_count": 6,
   "id": "4b51708a",
   "metadata": {},
   "outputs": [
    {
     "name": "stdout",
     "output_type": "stream",
     "text": [
      "0    ['0.11111', '0.11111', '0.11111', '0.11111', '0.11111', '0.11111', '0.11111', '0.11111', '0.88889']\n",
      "1    ['0.11111', '0.11111', '0.11111', '0.11111', '0.11111', '0.13889', '0.11111', '0.13889', '0.38889']\n",
      "2    ['0.11111', '0.11111', '0.04861', '0.11111', '0.01389', '0.07639', '0.04861', '0.07639', '0.26389']\n",
      "3    ['0.11111', '0.06424', '0.03299', '0.06424', '0.01736', '0.07639', '0.03299', '0.07639', '0.17014']\n",
      "4    ['0.08767', '0.05642', '0.01345', '0.05642', '0.00608', '0.04905', '0.01345', '0.04905', '0.12326']\n",
      "5    ['0.07205', '0.03787', '0.00857', '0.03787', '0.00369', '0.04123', '0.00857', '0.04123', '0.08615']\n",
      "6    ['0.05496', '0.03054', '0.00345', '0.03054', '0.00168', '0.02878', '0.00345', '0.02878', '0.06369']\n",
      "7    ['0.04275', '0.02182', '0.00216', '0.02182', '0.00088', '0.02268', '0.00216', '0.02268', '0.04624']\n",
      "8    ['0.03228', '0.01690', '0.00087', '0.01690', '0.00043', '0.01647', '0.00087', '0.01647', '0.03446']\n",
      "9    ['0.02459', '0.01241', '0.00054', '0.01241', '0.00022', '0.01262', '0.00054', '0.01262', '0.02546']\n",
      "10    ['0.01850', '0.00944', '0.00022', '0.00944', '0.00011', '0.00933', '0.00022', '0.00933', '0.01904']\n",
      "11    ['0.01397', '0.00701', '0.00014', '0.00701', '0.00005', '0.00707', '0.00014', '0.00707', '0.01419']\n",
      "12    ['0.01049', '0.00529', '0.00005', '0.00529', '0.00003', '0.00527', '0.00005', '0.00527', '0.01063']\n",
      "13    ['0.00789', '0.00395', '0.00003', '0.00395', '0.00001', '0.00397', '0.00003', '0.00397', '0.00795']\n",
      "14    ['0.00592', '0.00297', '0.00001', '0.00297', '0.00001', '0.00297', '0.00001', '0.00297', '0.00596']\n",
      "15    ['0.00445', '0.00223', '0.00001', '0.00223', '0.00000', '0.00223', '0.00001', '0.00223', '0.00446']\n",
      "16    ['0.00334', '0.00167', '0.00000', '0.00167', '0.00000', '0.00167', '0.00000', '0.00167', '0.00335']\n",
      "17    ['0.00250', '0.00125', '0.00000', '0.00125', '0.00000', '0.00125', '0.00000', '0.00125', '0.00251']\n",
      "18    ['0.00188', '0.00094', '0.00000', '0.00094', '0.00000', '0.00094', '0.00000', '0.00094', '0.00188']\n",
      "19    ['0.00141', '0.00070', '0.00000', '0.00070', '0.00000', '0.00070', '0.00000', '0.00070', '0.00141']\n",
      "20    ['0.00106', '0.00053', '0.00000', '0.00053', '0.00000', '0.00053', '0.00000', '0.00053', '0.00106']\n",
      "21    ['0.00079', '0.00040', '0.00000', '0.00040', '0.00000', '0.00040', '0.00000', '0.00040', '0.00079']\n",
      "22    ['0.00059', '0.00030', '0.00000', '0.00030', '0.00000', '0.00030', '0.00000', '0.00030', '0.00059']\n",
      "23    ['0.00045', '0.00022', '0.00000', '0.00022', '0.00000', '0.00022', '0.00000', '0.00022', '0.00045']\n",
      "24    ['0.00033', '0.00017', '0.00000', '0.00017', '0.00000', '0.00017', '0.00000', '0.00017', '0.00033']\n",
      "25    ['0.00025', '0.00013', '0.00000', '0.00013', '0.00000', '0.00013', '0.00000', '0.00013', '0.00025']\n",
      "26    ['0.00019', '0.00009', '0.00000', '0.00009', '0.00000', '0.00009', '0.00000', '0.00009', '0.00019']\n",
      "27    ['0.00014', '0.00007', '0.00000', '0.00007', '0.00000', '0.00007', '0.00000', '0.00007', '0.00014']\n",
      "28    ['0.00011', '0.00005', '0.00000', '0.00005', '0.00000', '0.00005', '0.00000', '0.00005', '0.00011']\n",
      "29    ['0.00008', '0.00004', '0.00000', '0.00004', '0.00000', '0.00004', '0.00000', '0.00004', '0.00008']\n",
      "30    ['0.00006', '0.00003', '0.00000', '0.00003', '0.00000', '0.00003', '0.00000', '0.00003', '0.00006']\n",
      "31    ['0.00004', '0.00002', '0.00000', '0.00002', '0.00000', '0.00002', '0.00000', '0.00002', '0.00004']\n",
      "32    ['0.00003', '0.00002', '0.00000', '0.00002', '0.00000', '0.00002', '0.00000', '0.00002', '0.00003']\n",
      "33    ['0.00003', '0.00001', '0.00000', '0.00001', '0.00000', '0.00001', '0.00000', '0.00001', '0.00003']\n",
      "34    ['0.00002', '0.00001', '0.00000', '0.00001', '0.00000', '0.00001', '0.00000', '0.00001', '0.00002']\n",
      "35    ['0.00001', '0.00001', '0.00000', '0.00001', '0.00000', '0.00001', '0.00000', '0.00001', '0.00001']\n",
      "36    ['0.00001', '0.00001', '0.00000', '0.00001', '0.00000', '0.00001', '0.00000', '0.00001', '0.00001']\n",
      "37    ['0.00001', '0.00000', '0.00000', '0.00000', '0.00000', '0.00000', '0.00000', '0.00000', '0.00001']\n",
      "38    ['0.00001', '0.00000', '0.00000', '0.00000', '0.00000', '0.00000', '0.00000', '0.00000', '0.00001']\n",
      "39    ['0.00000', '0.00000', '0.00000', '0.00000', '0.00000', '0.00000', '0.00000', '0.00000', '0.00000']\n",
      "40    ['0.00000', '0.00000', '0.00000', '0.00000', '0.00000', '0.00000', '0.00000', '0.00000', '0.00000']\n",
      "41    ['0.00000', '0.00000', '0.00000', '0.00000', '0.00000', '0.00000', '0.00000', '0.00000', '0.00000']\n",
      "42    ['0.00000', '0.00000', '0.00000', '0.00000', '0.00000', '0.00000', '0.00000', '0.00000', '0.00000']\n",
      "43    ['0.00000', '0.00000', '0.00000', '0.00000', '0.00000', '0.00000', '0.00000', '0.00000', '0.00000']\n",
      "44    ['0.00000', '0.00000', '0.00000', '0.00000', '0.00000', '0.00000', '0.00000', '0.00000', '0.00000']\n",
      "45    ['0.00000', '0.00000', '0.00000', '0.00000', '0.00000', '0.00000', '0.00000', '0.00000', '0.00000']\n",
      "46    ['0.00000', '0.00000', '0.00000', '0.00000', '0.00000', '0.00000', '0.00000', '0.00000', '0.00000']\n",
      "47    ['0.00000', '0.00000', '0.00000', '0.00000', '0.00000', '0.00000', '0.00000', '0.00000', '0.00000']\n",
      "48    ['0.00000', '0.00000', '0.00000', '0.00000', '0.00000', '0.00000', '0.00000', '0.00000', '0.00000']\n",
      "49    ['0.00000', '0.00000', '0.00000', '0.00000', '0.00000', '0.00000', '0.00000', '0.00000', '0.00000']\n",
      "50    ['0.00000', '0.00000', '0.00000', '0.00000', '0.00000', '0.00000', '0.00000', '0.00000', '0.00000']\n",
      "51    ['0.00000', '0.00000', '0.00000', '0.00000', '0.00000', '0.00000', '0.00000', '0.00000', '0.00000']\n",
      "52    ['0.00000', '0.00000', '0.00000', '0.00000', '0.00000', '0.00000', '0.00000', '0.00000', '0.00000']\n",
      "53    ['0.00000', '0.00000', '0.00000', '0.00000', '0.00000', '0.00000', '0.00000', '0.00000', '0.00000']\n",
      "54    ['0.00000', '0.00000', '0.00000', '0.00000', '0.00000', '0.00000', '0.00000', '0.00000', '0.00000']\n",
      "55    ['0.00000', '0.00000', '0.00000', '0.00000', '0.00000', '0.00000', '0.00000', '0.00000', '0.00000']\n",
      "56    ['0.00000', '0.00000', '0.00000', '0.00000', '0.00000', '0.00000', '0.00000', '0.00000', '0.00000']\n",
      "57    ['0.00000', '0.00000', '0.00000', '0.00000', '0.00000', '0.00000', '0.00000', '0.00000', '0.00000']\n",
      "58    ['0.00000', '0.00000', '0.00000', '0.00000', '0.00000', '0.00000', '0.00000', '0.00000', '0.00000']\n",
      "59    ['0.00000', '0.00000', '0.00000', '0.00000', '0.00000', '0.00000', '0.00000', '0.00000', '0.00000']\n",
      "60    ['0.00000', '0.00000', '0.00000', '0.00000', '0.00000', '0.00000', '0.00000', '0.00000', '0.00000']\n",
      "61    ['0.00000', '0.00000', '0.00000', '0.00000', '0.00000', '0.00000', '0.00000', '0.00000', '0.00000']\n",
      "62    ['0.00000', '0.00000', '0.00000', '0.00000', '0.00000', '0.00000', '0.00000', '0.00000', '0.00000']\n",
      "63    ['0.00000', '0.00000', '0.00000', '0.00000', '0.00000', '0.00000', '0.00000', '0.00000', '0.00000']\n",
      "64    ['0.00000', '0.00000', '0.00000', '0.00000', '0.00000', '0.00000', '0.00000', '0.00000', '0.00000']\n",
      "65    ['0.00000', '0.00000', '0.00000', '0.00000', '0.00000', '0.00000', '0.00000', '0.00000', '0.00000']\n",
      "66    ['0.00000', '0.00000', '0.00000', '0.00000', '0.00000', '0.00000', '0.00000', '0.00000', '0.00000']\n",
      "67    ['0.00000', '0.00000', '0.00000', '0.00000', '0.00000', '0.00000', '0.00000', '0.00000', '0.00000']\n",
      "68    ['0.00000', '0.00000', '0.00000', '0.00000', '0.00000', '0.00000', '0.00000', '0.00000', '0.00000']\n",
      "69    ['0.00000', '0.00000', '0.00000', '0.00000', '0.00000', '0.00000', '0.00000', '0.00000', '0.00000']\n",
      "70    ['0.00000', '0.00000', '0.00000', '0.00000', '0.00000', '0.00000', '0.00000', '0.00000', '0.00000']\n",
      "71    ['0.00000', '0.00000', '0.00000', '0.00000', '0.00000', '0.00000', '0.00000', '0.00000', '0.00000']\n",
      "72    ['0.00000', '0.00000', '0.00000', '0.00000', '0.00000', '0.00000', '0.00000', '0.00000', '0.00000']\n",
      "73    ['0.00000', '0.00000', '0.00000', '0.00000', '0.00000', '0.00000', '0.00000', '0.00000', '0.00000']\n",
      "74    ['0.00000', '0.00000', '0.00000', '0.00000', '0.00000', '0.00000', '0.00000', '0.00000', '0.00000']\n",
      "75    ['0.00000', '0.00000', '0.00000', '0.00000', '0.00000', '0.00000', '0.00000', '0.00000', '0.00000']\n",
      "76    ['0.00000', '0.00000', '0.00000', '0.00000', '0.00000', '0.00000', '0.00000', '0.00000', '0.00000']\n",
      "77    ['0.00000', '0.00000', '0.00000', '0.00000', '0.00000', '0.00000', '0.00000', '0.00000', '0.00000']\n",
      "78    ['0.00000', '0.00000', '0.00000', '0.00000', '0.00000', '0.00000', '0.00000', '0.00000', '0.00000']\n",
      "79    ['0.00000', '0.00000', '0.00000', '0.00000', '0.00000', '0.00000', '0.00000', '0.00000', '0.00000']\n",
      "80    ['0.00000', '0.00000', '0.00000', '0.00000', '0.00000', '0.00000', '0.00000', '0.00000', '0.00000']\n",
      "81    ['0.00000', '0.00000', '0.00000', '0.00000', '0.00000', '0.00000', '0.00000', '0.00000', '0.00000']\n",
      "82    ['0.00000', '0.00000', '0.00000', '0.00000', '0.00000', '0.00000', '0.00000', '0.00000', '0.00000']\n",
      "83    ['0.00000', '0.00000', '0.00000', '0.00000', '0.00000', '0.00000', '0.00000', '0.00000', '0.00000']\n",
      "84    ['0.00000', '0.00000', '0.00000', '0.00000', '0.00000', '0.00000', '0.00000', '0.00000', '0.00000']\n",
      "85    ['0.00000', '0.00000', '0.00000', '0.00000', '0.00000', '0.00000', '0.00000', '0.00000', '0.00000']\n",
      "86    ['0.00000', '0.00000', '0.00000', '0.00000', '0.00000', '0.00000', '0.00000', '0.00000', '0.00000']\n",
      "87    ['0.00000', '0.00000', '0.00000', '0.00000', '0.00000', '0.00000', '0.00000', '0.00000', '0.00000']\n",
      "88    ['0.00000', '0.00000', '0.00000', '0.00000', '0.00000', '0.00000', '0.00000', '0.00000', '0.00000']\n",
      "89    ['0.00000', '0.00000', '0.00000', '0.00000', '0.00000', '0.00000', '0.00000', '0.00000', '0.00000']\n",
      "90    ['0.00000', '0.00000', '0.00000', '0.00000', '0.00000', '0.00000', '0.00000', '0.00000', '0.00000']\n",
      "91    ['0.00000', '0.00000', '0.00000', '0.00000', '0.00000', '0.00000', '0.00000', '0.00000', '0.00000']\n",
      "92    ['0.00000', '0.00000', '0.00000', '0.00000', '0.00000', '0.00000', '0.00000', '0.00000', '0.00000']\n",
      "93    ['0.00000', '0.00000', '0.00000', '0.00000', '0.00000', '0.00000', '0.00000', '0.00000', '0.00000']\n",
      "94    ['0.00000', '0.00000', '0.00000', '0.00000', '0.00000', '0.00000', '0.00000', '0.00000', '0.00000']\n",
      "95    ['0.00000', '0.00000', '0.00000', '0.00000', '0.00000', '0.00000', '0.00000', '0.00000', '0.00000']\n",
      "96    ['0.00000', '0.00000', '0.00000', '0.00000', '0.00000', '0.00000', '0.00000', '0.00000', '0.00000']\n",
      "97    ['0.00000', '0.00000', '0.00000', '0.00000', '0.00000', '0.00000', '0.00000', '0.00000', '0.00000']\n",
      "98    ['0.00000', '0.00000', '0.00000', '0.00000', '0.00000', '0.00000', '0.00000', '0.00000', '0.00000']\n",
      "99    ['0.00000', '0.00000', '0.00000', '0.00000', '0.00000', '0.00000', '0.00000', '0.00000', '0.00000']\n"
     ]
    }
   ],
   "source": [
    "position = numpy.zeros(9)\n",
    "position[8] = 1.0\n",
    "for t in range(100):\n",
    "    print (t,'  ',[\"%0.5f\" % abs(i- 1.0 / 9.0) for i in position])\n",
    "    position = numpy.dot(transfer, position)"
   ]
  },
  {
   "cell_type": "code",
   "execution_count": 30,
   "id": "8a0dcb3b",
   "metadata": {},
   "outputs": [
    {
     "name": "stdout",
     "output_type": "stream",
     "text": [
      "-1\n"
     ]
    }
   ],
   "source": [
    "t = np.random.choice([-1,1])\n",
    "print(t)"
   ]
  },
  {
   "cell_type": "code",
   "execution_count": 36,
   "id": "b093ab73",
   "metadata": {},
   "outputs": [
    {
     "data": {
      "image/png": "[encoded data removed]",
      "text/plain": [
       "<Figure size 432x288 with 1 Axes>"
      ]
     },
     "metadata": {
      "needs_background": "light"
     },
     "output_type": "display_data"
    }
   ],
   "source": [
    "def direct_pi(N):\n",
    "    n_hits = 0\n",
    "    for i in range(N):\n",
    "        x, y = random.uniform(-1.0, 1.0), random.uniform(-1.0, 1.0)\n",
    "        if x ** 2 + y ** 2 < 1.0:\n",
    "            n_hits += 1\n",
    "    return n_hits\n",
    "\n",
    "n_runs = 500\n",
    "n_trials_list = []\n",
    "sigmasqs = []\n",
    "for poweroftwo in range(4, 13):\n",
    "    n_trials = 2 ** poweroftwo\n",
    "    sigmasq = 0.0\n",
    "    for run in range(n_runs):\n",
    "        pi_est = 4.0 * direct_pi(n_trials) / float(n_trials)\n",
    "        sigmasq += (pi_est - math.pi) ** 2\n",
    "    sigmasqs.append(math.sqrt(sigmasq/(n_runs)))\n",
    "    n_trials_list.append(n_trials)\n",
    "\n",
    "pylab.plot([10.0, 10000.0], [1.642 / math.sqrt(10.0), 1.642 / math.sqrt(10000.0)])\n",
    "pylab.plot(n_trials_list, sigmasqs, 'o')\n",
    "pylab.xscale('log')\n",
    "pylab.yscale('log')\n",
    "pylab.xlabel('number of trials')\n",
    "pylab.ylabel('root mean square deviation')\n",
    "pylab.title('Direct sampling of pi: root mean square deviation vs. n_trials')\n",
    "pylab.savefig('direct_sampling_rms_deviation.png')\n",
    "pylab.show()\n"
   ]
  },
  {
   "cell_type": "code",
   "execution_count": null,
   "id": "9a025793",
   "metadata": {},
   "outputs": [],
   "source": [
    "#The line is added to the #23 line for letting the points stay above. Since the function of this paragraph is generating the plot, the first line of this old paragraph has a nearly similar function to the newly added. They are responsible for data interpretation. Hence, I added the line in this position.\n",
    "\n",
    "#1.642 stand for standard deviation of our computation to actual pi value. The equation 1.642/sqrt(n_trials) is the equation of standard deviation of the mean (in our computation is actual pi).  Therefore, it represents the error in our computation to actual value. In the ideal case, follow this equation: When N go to infinity, sigma goes to 0. Hence, it happens for a super perfect computer."
   ]
  },
  {
   "cell_type": "code",
   "execution_count": 105,
   "id": "669c4cf5",
   "metadata": {},
   "outputs": [
    {
     "data": {
      "image/png": "[encoded data removed]",
      "text/plain": [
       "<Figure size 432x288 with 1 Axes>"
      ]
     },
     "metadata": {
      "needs_background": "light"
     },
     "output_type": "display_data"
    }
   ],
   "source": [
    "def markov_pi(N, delta):\n",
    "    x, y = 1.0, 1.0\n",
    "    n_hits = 0\n",
    "    for i in range(N):\n",
    "        del_x, del_y = random.uniform(-delta, delta), random.uniform(-delta, delta)\n",
    "        if abs(x + del_x) < 1.0 and abs(y + del_y) < 1.0:\n",
    "            x, y = x + del_x, y + del_y\n",
    "        if x**2 + y**2 < 1.0: n_hits += 1\n",
    "    return n_hits\n",
    "\n",
    "n_runs = 500\n",
    "for delta in [0.062, 0.125, 0.25, 0.5, 1.0, 2.0, 4.0]:\n",
    "    n_trials_list = []\n",
    "    sigmas = []\n",
    "    for poweroftwo in range(4, 13):\n",
    "        n_trials = 2 ** poweroftwo\n",
    "        sigma = 0.0\n",
    "        for run in range(n_runs):\n",
    "            pi_est = 4.0 * markov_pi(n_trials, delta) / float(n_trials)\n",
    "            sigma += (pi_est - math.pi) ** 2\n",
    "        sigmas.append(math.sqrt(sigma/(n_runs)))\n",
    "        n_trials_list.append(n_trials)\n",
    "    pylab.plot(n_trials_list, sigmas, 'o', ms = 8, label = '$\\delta = $' + str(delta))\n",
    "\n",
    "pylab.xscale('log')\n",
    "pylab.yscale('log')\n",
    "pylab.xlabel('number of trials')\n",
    "pylab.ylabel('root mean square deviation')\n",
    "pylab.plot([10,10000],[1.642 / math.sqrt(10.0), 1.642 / math.sqrt(10000.0)], label = 'direct')\n",
    "pylab.title('Markov-chain sampling of pi: root mean square deviation vs. n_trials')\n",
    "pylab.legend(loc='upper right')\n",
    "pylab.savefig('markov_sampling_rms_deviation.png')\n",
    "pylab.show()"
   ]
  },
  {
   "cell_type": "code",
   "execution_count": null,
   "id": "ed9bad04",
   "metadata": {},
   "outputs": [],
   "source": [
    "#Delta = 1.0 gives the most precise result among provided.\n",
    "\n",
    "#The reason is due to the acceptance rate at this scale being high compared to the jump path on the very small delta. Vice versa, the large jump also made us go outside the square, while the acceptance rate is small to allow these few jumps to be made.\n",
    "\n",
    "#Direct sampling plays on discrete space, where it does not require memory for previous samples. Therefore, the direct sampling can fulfill the circle from independent directions, which faster and require fewer jumps than the Markov sampling."
   ]
  },
  {
   "cell_type": "code",
   "execution_count": 144,
   "id": "b199acb3",
   "metadata": {
    "scrolled": true
   },
   "outputs": [
    {
     "name": "stdout",
     "output_type": "stream",
     "text": [
      "Delta:  0.062 | Acceptance rate:  0.232546875\n",
      "Delta:  0.125 | Acceptance rate:  0.21988330078125\n",
      "Delta:  0.25 | Acceptance rate:  0.21769775390625\n",
      "Delta:  0.5 | Acceptance rate:  0.21518212890625\n",
      "Delta:  1.0 | Acceptance rate:  0.214502685546875\n",
      "Delta:  2.0 | Acceptance rate:  0.21538037109375\n",
      "Delta:  4.0 | Acceptance rate:  0.215809326171875\n"
     ]
    }
   ],
   "source": [
    "n_runs = 500\n",
    "for delta in [0.062, 0.125, 0.25, 0.5, 1.0, 2.0, 4.0]:\n",
    "    n_trials = 2**13\n",
    "    mean=0\n",
    "    for run in range(n_runs):\n",
    "        ar =1- (markov_pi(n_trials, delta) / float(n_trials))\n",
    "        mean += ar\n",
    "    mean = mean/n_runs\n",
    "    print(\"Delta: \",delta,\"| Acceptance rate: \", mean)"
   ]
  },
  {
   "cell_type": "code",
   "execution_count": 151,
   "id": "fbe38f95",
   "metadata": {},
   "outputs": [
    {
     "name": "stdout",
     "output_type": "stream",
     "text": [
      "Delta | Acceptance rate\n",
      "0.062  |  0.964875\n",
      "0.125  |  0.93611376953125\n",
      "0.25  |  0.87793408203125\n",
      "0.5  |  0.76513427734375\n",
      "1.0  |  0.561833984375\n",
      "2.0  |  0.250888671875\n",
      "4.0  |  0.0623173828125\n"
     ]
    },
    {
     "data": {
      "image/png": "[encoded data removed]",
      "text/plain": [
       "<Figure size 432x288 with 1 Axes>"
      ]
     },
     "metadata": {
      "needs_background": "light"
     },
     "output_type": "display_data"
    }
   ],
   "source": [
    "n_runs = 500\n",
    "deltas = [0.062, 0.125, 0.25, 0.5, 1.0, 2.0, 4.0]\n",
    "mean_list = []\n",
    "sigmas = []\n",
    "\n",
    "def markov_ar(N, delta):\n",
    "    x, y = 1.0, 1.0\n",
    "    n_accepteds = 0\n",
    "    for i in range(N):\n",
    "        del_x, del_y = random.uniform(-delta, delta), random.uniform(-delta, delta)\n",
    "        if abs(x + del_x) < 1.0 and abs(y + del_y) < 1.0:\n",
    "            x, y = x + del_x, y + del_y\n",
    "            n_accepteds += 1\n",
    "    return n_accepteds\n",
    "\n",
    "print(\"Delta | Acceptance rate\")\n",
    "for delta in deltas:\n",
    "    n_trials = 2**12\n",
    "    mean = 0.0\n",
    "    sigma = 0.0\n",
    "    for run in range(n_runs):\n",
    "        ar= markov_ar(n_trials, delta) / float(n_trials)\n",
    "        sigma+=(ar-math.pi/4)**2\n",
    "        mean+=ar\n",
    "    mean_list.append(mean/n_runs)\n",
    "    sigmas.append(math.sqrt(sigma/(n_runs)))\n",
    "    print(delta,\" | \",mean/n_runs)\n",
    "pylab.plot(deltas, mean_list, 'o', ms = 8, label = '$\\delta = $' + str(delta))\n",
    "pylab.xlabel('Delta')\n",
    "pylab.ylabel('Mean acceptance rate')\n",
    "pylab.savefig('markov_sampling_mean_acceptance rate.png')"
   ]
  },
  {
   "cell_type": "code",
   "execution_count": 176,
   "id": "8368e219",
   "metadata": {},
   "outputs": [
    {
     "name": "stdout",
     "output_type": "stream",
     "text": [
      "3.13445 1.6471412249725792\n"
     ]
    }
   ],
   "source": [
    "n_trials = 400000\n",
    "n_hits = 0\n",
    "var = 0.0\n",
    "for iter in range(n_trials):\n",
    "    x, y = random.uniform(-1.0, 1.0), random.uniform(-1.0, 1.0)\n",
    "    Obs = 0.0\n",
    "    if x**2 + y**2 < 1.0:\n",
    "        n_hits += 1\n",
    "        Obs = 4.0\n",
    "    var += (Obs - math.pi)**2\n",
    "print (4.0 * n_hits / float(n_trials), math.sqrt(var / n_trials))"
   ]
  },
  {
   "cell_type": "code",
   "execution_count": 187,
   "id": "869f2ed0",
   "metadata": {},
   "outputs": [
    {
     "name": "stdout",
     "output_type": "stream",
     "text": [
      "3.14178 131444315564.5216 0.0 -1.7277608094225536e+22\n"
     ]
    }
   ],
   "source": [
    "n_trials = 400000\n",
    "n_hits = 0\n",
    "sr = 0.0\n",
    "var = 0.0\n",
    "Obs = 0.0\n",
    "mean = 0.0\n",
    "n=0\n",
    "for i in range(n_trials):\n",
    "    n+=1\n",
    "    x, y = random.uniform(-1.0, 1.0), random.uniform(-1.0, 1.0)\n",
    "    if x**2 + y**2 < 1.0:\n",
    "        Obs += 4.0\n",
    "        n_hits += 1.0\n",
    "    mean += (Obs*n_hits)\n",
    "mean /= n\n",
    "sr = (var)-(mean)**2\n",
    "print (4.0 * n_hits / float(n_trials), mean, var, sr)"
   ]
  },
  {
   "cell_type": "code",
   "execution_count": 188,
   "id": "6daba52a",
   "metadata": {},
   "outputs": [
    {
     "name": "stdout",
     "output_type": "stream",
     "text": [
      "mean value=3.1470,calc error=0.0016, true error=0.0054\n",
      "mean value=3.1470,calc error=0.0022, true error=0.0054\n",
      "mean value=3.1470,calc error=0.0030, true error=0.0054\n",
      "mean value=3.1470,calc error=0.0040, true error=0.0054\n",
      "mean value=3.1470,calc error=0.0054, true error=0.0054\n",
      "mean value=3.1470,calc error=0.0070, true error=0.0054\n",
      "mean value=3.1470,calc error=0.0089, true error=0.0054\n",
      "mean value=3.1470,calc error=0.0108, true error=0.0054\n",
      "mean value=3.1470,calc error=0.0123, true error=0.0054\n",
      "mean value=3.1470,calc error=0.0131, true error=0.0054\n",
      "mean value=3.1470,calc error=0.0135, true error=0.0054\n",
      "mean value=3.1470,calc error=0.0141, true error=0.0054\n",
      "mean value=3.1470,calc error=0.0147, true error=0.0054\n",
      "mean value=3.1470,calc error=0.0148, true error=0.0054\n",
      "mean value=3.1470,calc error=0.0136, true error=0.0054\n",
      "mean value=3.1470,calc error=0.0166, true error=0.0054\n",
      "mean value=3.1470,calc error=0.0156, true error=0.0054\n",
      "mean value=3.1470,calc error=0.0159, true error=0.0054\n",
      "mean value=3.1470,calc error=0.0185, true error=0.0054\n",
      "mean value=3.1470,calc error=0.0036, true error=0.0054\n"
     ]
    },
    {
     "data": {
      "image/png": "[encoded data removed]",
      "text/plain": [
       "<Figure size 432x288 with 1 Axes>"
      ]
     },
     "metadata": {
      "needs_background": "light"
     },
     "output_type": "display_data"
    }
   ],
   "source": [
    "def markov_pi_all_data(N, delta):\n",
    "    x, y = 1.0, 1.0\n",
    "    data = []\n",
    "    for i in range(N):\n",
    "        del_x, del_y = random.uniform(-delta, delta), random.uniform(-delta, delta)\n",
    "        if abs(x + del_x) < 1.0 and abs(y + del_y) < 1.0:\n",
    "            x, y = x + del_x, y + del_y\n",
    "        if x ** 2 + y ** 2 < 1.0:\n",
    "            data.append(4.0)\n",
    "        else:\n",
    "            data.append(0.0)\n",
    "    return data\n",
    "\n",
    "poweroftwo = 20\n",
    "n_trials = 2 ** poweroftwo\n",
    "delta = 0.1\n",
    "data = markov_pi_all_data(n_trials, delta)\n",
    "errors  = []\n",
    "bunches = []\n",
    "for i in range(poweroftwo):\n",
    "    new_data = []\n",
    "    mean = 0.0\n",
    "    mean_sq = 0.0\n",
    "    N = len(data)\n",
    "    while data != []:\n",
    "        x = data.pop()\n",
    "        y = data.pop()\n",
    "        mean += x + y\n",
    "        mean_sq += x ** 2 + y ** 2\n",
    "        new_data.append((x + y) / 2.0 )\n",
    "    errors.append(math.sqrt(mean_sq / N - (mean / N) ** 2) / math.sqrt(N))\n",
    "    bunches.append(i)\n",
    "    data = new_data[:]\n",
    "    print ('mean value={0:6.4f},calc error={1:6.4f}, true error={2:6.4f}'.format(mean / float(N),errors[-1],abs(math.pi-mean / float(N))))\n",
    "pylab.plot(bunches, errors, 'o')\n",
    "pylab.xlabel('iteration')\n",
    "pylab.ylabel('apparent error')\n",
    "pylab.title('Bunching: naive error vs iteration number')\n",
    "pylab.savefig('apparent_error_bunching.png')\n",
    "pylab.show()"
   ]
  },
  {
   "cell_type": "code",
   "execution_count": null,
   "id": "5ac93e80",
   "metadata": {},
   "outputs": [],
   "source": [
    "#Upon the correlation time (t) of the bunching chain, there are 3 regimes of error regimes.\n",
    "#1. Bunching intervals < t: the error is underestimated.\n",
    "#2. Bunching intervals >= t: estimation approached the true error of our simulation by bunching of uncorrelated data does not change the mean.\n",
    "#3. Disorder tail of the plot: the data remain uncorrelated, but the error estimate gets noisy.\n",
    "\n",
    "#The absolute value of pi^est-pi is similar to the plateau error values."
   ]
  },
  {
   "cell_type": "code",
   "execution_count": 192,
   "id": "a7e674ef",
   "metadata": {},
   "outputs": [
    {
     "name": "stdout",
     "output_type": "stream",
     "text": [
      "<Obs> =  3.14636\n",
      "<Obs^2> =  12.58544\n",
      "<Obs^2> - <Obs>^2 = 2.6858587503999996\n",
      "==> rms:  1.6388589781918392\n"
     ]
    }
   ],
   "source": [
    "n_trials = 400000\n",
    "n_hits = 0\n",
    "var = 0.0\n",
    "so=0.0\n",
    "so2=0.0\n",
    "for iter in range(n_trials):\n",
    "    x, y = random.uniform(-1.0, 1.0), random.uniform(-1.0, 1.0)\n",
    "    Obs = 0.0\n",
    "    if x**2 + y**2 < 1.0:\n",
    "        n_hits += 1\n",
    "        Obs = 4.0\n",
    "    so+=Obs\n",
    "    so2+=Obs*Obs\n",
    "m=so/n_trials\n",
    "m2=so2/n_trials\n",
    "var=m2-m**2\n",
    "print ('<Obs> = ',m)\n",
    "print ('<Obs^2> = ', m2)\n",
    "print ('<Obs^2> - <Obs>^2 =', var)\n",
    "print ('==> rms: ', math.sqrt(var))"
   ]
  }
 ],
 "metadata": {
  "kernelspec": {
   "display_name": "Python 3 (ipykernel)",
   "language": "python",
   "name": "python3"
  },
  "language_info": {
   "codemirror_mode": {
    "name": "ipython",
    "version": 3
   },
   "file_extension": ".py",
   "mimetype": "text/x-python",
   "name": "python",
   "nbconvert_exporter": "python",
   "pygments_lexer": "ipython3",
   "version": "3.9.12"
  }
 },
 "nbformat": 4,
 "nbformat_minor": 5
}
